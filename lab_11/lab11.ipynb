{
 "cells": [
  {
   "cell_type": "code",
   "execution_count": 1,
   "id": "fd647c16",
   "metadata": {},
   "outputs": [
    {
     "name": "stdout",
     "output_type": "stream",
     "text": [
      "{'Liczby': ['192', '168', '0', '1', '35', '1000', '36', '6'], 'Liczby conajmniej 3 cyfrowe': ['192', '168', '1000'], 'IPv4': ['192.168.0.1'], 'Wyrazy z dużej litery': ['Ala', 'Marek', 'Jan', 'Kowalski', 'Krakowa', 'Typowa', 'C', 'Jego'], 'Linie z conajmniej 4 wyrazami': ['192.168.0.1', 'Marek ma 35 lat.', 'Jan Kowalski z Krakowa.', 'https://www.sport.pl/', 'WĹ‚aĹ›nie wygraĹ‚eĹ› 1000 zĹ‚otych!', 'https://www.python.org/downloads/windows/', 'Typowa temperatura ludzkiego ciaĹ‚a to 36.6 C.', 'Jego nickname to bolek99.', 'https://www.onet.pl/'], 'URLS': ['https://www.sport.pl', 'https://www.python.org/downloads/windows', 'https://www.onet.pl']}\n"
     ]
    }
   ],
   "source": [
    "#Zadanie 1\n",
    "\n",
    "import re\n",
    "\n",
    "def search_patterns_in_file(file_path):\n",
    "    with open(file_path, 'r') as file:\n",
    "        content = file.read()\n",
    "\n",
    "    numbers = re.findall(r'\\b\\d+\\b', content)\n",
    "    numbers_3_or_more_digits = re.findall(r'\\b\\d{3,}\\b', content)\n",
    "    ipv4_addresses = re.findall(r'\\b(?:\\d{1,3}\\.){3}\\d{1,3}\\b', content)\n",
    "    capitalized_words = re.findall(r'\\b[A-Z][a-z]*\\b', content)\n",
    "    lines_with_4_or_more_words = [line for line in content.split('\\n') if len(re.findall(r'\\b\\w+\\b', line)) >= 4]\n",
    "    urls = re.findall(r'\\b(?:http|https|ftp)://[^\\s/$.?#].[^\\s]*\\b', content)\n",
    "    \n",
    "    return {\n",
    "        \"Liczby\": numbers,\n",
    "        \"Liczby conajmniej 3 cyfrowe\": numbers_3_or_more_digits,\n",
    "        \"IPv4\": ipv4_addresses,\n",
    "        \"Wyrazy z dużej litery\": capitalized_words,\n",
    "        \"Linie z conajmniej 4 wyrazami\": lines_with_4_or_more_words,\n",
    "        \"URLS\": urls\n",
    "    }\n",
    "\n",
    "results = search_patterns_in_file('strings.txt')\n",
    "print(results)"
   ]
  },
  {
   "cell_type": "code",
   "execution_count": 2,
   "id": "08e4c038",
   "metadata": {},
   "outputs": [],
   "source": [
    "#Zadanie 2\n",
    "\n",
    "import re\n",
    "import csv\n",
    "from datetime import datetime\n",
    "import requests\n",
    "\n",
    "log_url = \"https://raw.githubusercontent.com/elastic/examples/master/Machine%20Learning/Security%20Analytics%20Recipes/suspicious_login_activity/data/auth.log\"\n",
    "response = requests.get(log_url)\n",
    "with open('auth.log', 'w') as file:\n",
    "    file.write(response.text)\n",
    "\n",
    "def parse_log_to_csv(log_file, csv_file):\n",
    "    with open(log_file, 'r') as file:\n",
    "        lines = file.readlines()\n",
    "\n",
    "    with open(csv_file, 'w', newline='', encoding='utf-8') as csvfile:\n",
    "        csv_writer = csv.writer(csvfile, quoting=csv.QUOTE_MINIMAL)\n",
    "        csv_writer.writerow(['Date', 'IP Address', 'User/Service', 'Message'])\n",
    "        \n",
    "        for line in lines:\n",
    "            date_match = re.search(r'(\\w{3} \\d{1,2} \\d{2}:\\d{2}:\\d{2})', line)\n",
    "            ip_match = re.search(r'\\b(?:\\d{1,3}\\.){3}\\d{1,3}\\b', line)\n",
    "            user_service_match = re.search(r'\\w+(?=\\[\\d+\\])|\\w+(?=:)', line)\n",
    "            message_match = re.search(r'(?<=: ).*$', line)\n",
    "            \n",
    "            if date_match and ip_match and user_service_match and message_match:\n",
    "                date_str = date_match.group(1)\n",
    "                date_obj = datetime.strptime(date_str, '%b %d %H:%M:%S')\n",
    "                formatted_date = date_obj.strftime('%Y-%m-%d %H:%M:%S')\n",
    "                \n",
    "                ip_address = ip_match.group(0)\n",
    "                user_service = user_service_match.group(0)\n",
    "                message = message_match.group(0)\n",
    "                \n",
    "                csv_writer.writerow([formatted_date, ip_address, user_service, message])\n",
    "\n",
    "parse_log_to_csv('auth.log', 'parsed_log.csv')"
   ]
  },
  {
   "cell_type": "code",
   "execution_count": 3,
   "id": "19601421",
   "metadata": {},
   "outputs": [
    {
     "name": "stdout",
     "output_type": "stream",
     "text": [
      "Point(5, 10)\n"
     ]
    }
   ],
   "source": [
    "#Zadanie 3\n",
    "\n",
    "import pickle\n",
    "\n",
    "class Point:\n",
    "    def __init__(self, x=0, y=0):\n",
    "        self.x = x\n",
    "        self.y = y\n",
    "\n",
    "    def __str__(self):\n",
    "        return f\"Point({self.x}, {self.y})\"\n",
    "\n",
    "point = Point(5, 10)\n",
    "\n",
    "with open('point.pkl', 'wb') as file:\n",
    "    pickle.dump(point, file)\n",
    "\n",
    "with open('point.pkl', 'rb') as file:\n",
    "    loaded_point = pickle.load(file)\n",
    "\n",
    "print(loaded_point)"
   ]
  },
  {
   "cell_type": "code",
   "execution_count": 4,
   "id": "a158380d",
   "metadata": {},
   "outputs": [
    {
     "name": "stdout",
     "output_type": "stream",
     "text": [
      "Point(0, 0)\n",
      "Point(1, 2)\n",
      "Point(2, 4)\n",
      "Point(3, 6)\n",
      "Point(4, 8)\n"
     ]
    }
   ],
   "source": [
    "#Zadanie 4\n",
    "\n",
    "points = [Point(i, i*2) for i in range(5)]\n",
    "\n",
    "with open('points.pkl', 'wb') as file:\n",
    "    pickle.dump(points, file)\n",
    "\n",
    "with open('points.pkl', 'rb') as file:\n",
    "    loaded_points = pickle.load(file)\n",
    "\n",
    "for point in loaded_points:\n",
    "    print(point)"
   ]
  },
  {
   "cell_type": "code",
   "execution_count": null,
   "id": "a54bce85",
   "metadata": {},
   "outputs": [],
   "source": []
  }
 ],
 "metadata": {
  "kernelspec": {
   "display_name": "Python 3 (ipykernel)",
   "language": "python",
   "name": "python3"
  },
  "language_info": {
   "codemirror_mode": {
    "name": "ipython",
    "version": 3
   },
   "file_extension": ".py",
   "mimetype": "text/x-python",
   "name": "python",
   "nbconvert_exporter": "python",
   "pygments_lexer": "ipython3",
   "version": "3.11.5"
  }
 },
 "nbformat": 4,
 "nbformat_minor": 5
}
