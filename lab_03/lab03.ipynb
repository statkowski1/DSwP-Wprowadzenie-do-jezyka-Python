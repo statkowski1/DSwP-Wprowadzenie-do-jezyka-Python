{
 "cells": [
  {
   "cell_type": "code",
   "execution_count": 1,
   "id": "e2af4f26",
   "metadata": {},
   "outputs": [
    {
     "name": "stdout",
     "output_type": "stream",
     "text": [
      "Początkowa lista:  [1, 2, 3, 4, 5, 6, 7, 8, 9, 10]\n",
      "Pierwsza lista po podziale:  [1, 2, 3, 4, 5]\n",
      "Druga lista po podziale:  [6, 7, 8, 9, 10]\n"
     ]
    }
   ],
   "source": [
    "#Zadanie 1\n",
    "\n",
    "list1 = [x for x in range(1, 11)]\n",
    "print('Początkowa lista: ', list1)\n",
    "\n",
    "list2 = list1[5:]\n",
    "list1 = list1[:5]\n",
    "print('Pierwsza lista po podziale: ', list1)\n",
    "print('Druga lista po podziale: ', list2)"
   ]
  },
  {
   "cell_type": "code",
   "execution_count": 2,
   "id": "72a67c99",
   "metadata": {},
   "outputs": [
    {
     "name": "stdout",
     "output_type": "stream",
     "text": [
      "Połączone listy:  [1, 2, 3, 4, 5, 6, 7, 8, 9, 10]\n",
      "Dodanie liczby na początku listy:  [0, 1, 2, 3, 4, 5, 6, 7, 8, 9, 10]\n",
      "Posortowana lista malejąco:  [10, 9, 8, 7, 6, 5, 4, 3, 2, 1, 0]\n"
     ]
    }
   ],
   "source": [
    "#Zadanie 2\n",
    "\n",
    "list3 = list1 + list2\n",
    "print('Połączone listy: ', list3)\n",
    "\n",
    "list3.insert(0, 0)\n",
    "print('Dodanie liczby na początku listy: ', list3)\n",
    "\n",
    "list4 = sorted(list3, reverse=True)\n",
    "print('Posortowana lista malejąco: ', list4)"
   ]
  },
  {
   "cell_type": "code",
   "execution_count": 3,
   "id": "41754d86",
   "metadata": {},
   "outputs": [
    {
     "name": "stdout",
     "output_type": "stream",
     "text": [
      "Wprowadź dowolny tekst: nnnnssdsdfjfdhrrxxlzzp\n",
      "Unikalne znaki w tekście posortowane alfabetycznie:  ['d', 'f', 'h', 'j', 'l', 'n', 'p', 'r', 's', 'x', 'z']\n"
     ]
    }
   ],
   "source": [
    "#Zadanie 3\n",
    "\n",
    "text = input('Wprowadź dowolny tekst: ')\n",
    "unique_text_chars = sorted(set(text.lower()))\n",
    "print('Unikalne znaki w tekście posortowane alfabetycznie: ', unique_text_chars)"
   ]
  },
  {
   "cell_type": "code",
   "execution_count": 4,
   "id": "47b5ec7e",
   "metadata": {},
   "outputs": [
    {
     "name": "stdout",
     "output_type": "stream",
     "text": [
      "Słownik z polskimi nazwami miesięcy:  {1: 'Styczeń', 2: 'Luty', 3: 'Marzec', 4: 'Kwiecień', 5: 'Maj', 6: 'Czerwiec', 7: 'Lipiec', 8: 'Sierpień', 9: 'Wrzesień', 10: 'Październik', 11: 'Listopad', 12: 'Grudzień'}\n"
     ]
    }
   ],
   "source": [
    "#Zadanie 4\n",
    "\n",
    "dictionary1 = {1: 'Styczeń', 2: 'Luty', 3: 'Marzec', 4: 'Kwiecień', 5: 'Maj', 6: 'Czerwiec', 7: 'Lipiec', 8: 'Sierpień',\n",
    "               9: 'Wrzesień', 10: 'Październik', 11: 'Listopad', 12: 'Grudzień'}\n",
    "print('Słownik z polskimi nazwami miesięcy: ', dictionary1)"
   ]
  },
  {
   "cell_type": "code",
   "execution_count": 5,
   "id": "969e6a3f",
   "metadata": {},
   "outputs": [
    {
     "name": "stdout",
     "output_type": "stream",
     "text": [
      "Słownik z angielskimi nazwami miesięcy:  {1: 'January', 2: 'February', 3: 'March', 4: 'April', 5: 'May', 6: 'June', 7: 'July', 8: 'August', 9: 'September', 10: 'October', 11: 'November', 12: 'December'}\n",
      "\n",
      "Połączone słowniki z miesiącami (polski i angielski):  {'pl': {1: 'Styczeń', 2: 'Luty', 3: 'Marzec', 4: 'Kwiecień', 5: 'Maj', 6: 'Czerwiec', 7: 'Lipiec', 8: 'Sierpień', 9: 'Wrzesień', 10: 'Październik', 11: 'Listopad', 12: 'Grudzień'}, 'en': {1: 'January', 2: 'February', 3: 'March', 4: 'April', 5: 'May', 6: 'June', 7: 'July', 8: 'August', 9: 'September', 10: 'October', 11: 'November', 12: 'December'}}\n",
      "\n",
      "Przykłady:\n",
      "Kwiecień\n",
      "April\n"
     ]
    }
   ],
   "source": [
    "#Zadanie 5\n",
    "\n",
    "dictionary2 = {1: 'January', 2: 'February', 3: 'March', 4: 'April', 5: 'May', 6: 'June', 7: 'July', 8: 'August',\n",
    "               9: 'September', 10: 'October', 11: 'November', 12: 'December'}\n",
    "print('Słownik z angielskimi nazwami miesięcy: ', dictionary2)\n",
    "\n",
    "dictionary3 = {'pl': dictionary1, 'en': dictionary2}\n",
    "print('\\nPołączone słowniki z miesiącami (polski i angielski): ', dictionary3)\n",
    "\n",
    "print('\\nPrzykłady:')\n",
    "print(dictionary3['pl'][4])\n",
    "print(dictionary3['en'][4])"
   ]
  },
  {
   "cell_type": "code",
   "execution_count": 6,
   "id": "5277a8b3",
   "metadata": {},
   "outputs": [
    {
     "name": "stdout",
     "output_type": "stream",
     "text": [
      "{'M': 1, 'a': 1, 'r': 1, 'i': 1, 'n': 1}\n"
     ]
    }
   ],
   "source": [
    "#Zadanie 6\n",
    "\n",
    "text2 = 'Marianna'\n",
    "unique_text2_chars = dict.fromkeys(text2, 1)\n",
    "print(unique_text2_chars)"
   ]
  },
  {
   "cell_type": "code",
   "execution_count": 7,
   "id": "9efd24db",
   "metadata": {},
   "outputs": [
    {
     "name": "stdout",
     "output_type": "stream",
     "text": [
      "Podaj dowolny łańcuch znaków: ywgdfhniufb9489rfjdfhnusdijciucdojijfdDFFVFBVF49u4uifdsnd\n",
      "Liczba znaków w podanym łańcuchu znaków:  57\n",
      "Udział procentowy liter w podanym łańcuchu znaków:  87.72%\n",
      "Udział procentowy cyfr w podanym łańcuchu znaków:  12.28%\n"
     ]
    }
   ],
   "source": [
    "#Zadanie 7\n",
    "\n",
    "import string\n",
    "\n",
    "text3 = input('Podaj dowolny łańcuch znaków: ')\n",
    "\n",
    "lowercase_count = sum(1 for char in text3 if char.lower() in string.ascii_lowercase)\n",
    "digits_count = sum(1 for char in text3 if char.isdigit())\n",
    "\n",
    "lowercase_percent = (lowercase_count / len(text3)) * 100\n",
    "digits_percent = (digits_count / len(text3)) * 100\n",
    "\n",
    "print('Liczba znaków w podanym łańcuchu znaków: ', len(text3))\n",
    "print(f'Udział procentowy liter w podanym łańcuchu znaków: {lowercase_percent: .2f}%')\n",
    "print(f'Udział procentowy cyfr w podanym łańcuchu znaków: {digits_percent: .2f}%')"
   ]
  },
  {
   "cell_type": "code",
   "execution_count": null,
   "id": "31f4a3ae",
   "metadata": {},
   "outputs": [],
   "source": []
  }
 ],
 "metadata": {
  "kernelspec": {
   "display_name": "Python 3 (ipykernel)",
   "language": "python",
   "name": "python3"
  },
  "language_info": {
   "codemirror_mode": {
    "name": "ipython",
    "version": 3
   },
   "file_extension": ".py",
   "mimetype": "text/x-python",
   "name": "python",
   "nbconvert_exporter": "python",
   "pygments_lexer": "ipython3",
   "version": "3.11.5"
  }
 },
 "nbformat": 4,
 "nbformat_minor": 5
}
