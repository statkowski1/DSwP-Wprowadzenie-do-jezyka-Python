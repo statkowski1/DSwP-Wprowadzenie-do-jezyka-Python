{
 "cells": [
  {
   "cell_type": "code",
   "execution_count": 1,
   "id": "0af065a9",
   "metadata": {},
   "outputs": [
    {
     "name": "stdout",
     "output_type": "stream",
     "text": [
      "[1, 2, 6, 7, 3]\n"
     ]
    }
   ],
   "source": [
    "#Zadanie 1\n",
    "\n",
    "from typing import Any\n",
    "\n",
    "def extract_numbers(vals: list[Any]) -> list[int | float]:\n",
    "    return list(filter(lambda x: isinstance(x, int) is True | isinstance(x, float) is True, vals))\n",
    "\n",
    "list1 = [1, 2, 5.6, 'fdf', 'dfg', 6, 8.3, 0.007, 'r', 7, 3]\n",
    "print(extract_numbers(list1))"
   ]
  },
  {
   "cell_type": "code",
   "execution_count": 2,
   "id": "b24a057b",
   "metadata": {},
   "outputs": [
    {
     "name": "stdout",
     "output_type": "stream",
     "text": [
      "Wprowadź separator jakim oddzielasz wyrazy: ,\n",
      "Wprowadź listę wyrazów: jez,malpa,kangur,samochod,jelen\n",
      "Posortowane wyrazy:  ['samochod', 'kangur', 'malpa', 'jelen', 'jez']\n"
     ]
    }
   ],
   "source": [
    "#Zadanie 2\n",
    "\n",
    "separator = input('Wprowadź separator jakim oddzielasz wyrazy: ')\n",
    "list2 = input('Wprowadź listę wyrazów: ').split(separator)\n",
    "\n",
    "result2 = sorted(list2, key=lambda x: len(x), reverse=True)\n",
    "print('Posortowane wyrazy: ', result2)"
   ]
  },
  {
   "cell_type": "code",
   "execution_count": 3,
   "id": "73839fbf",
   "metadata": {},
   "outputs": [
    {
     "name": "stdout",
     "output_type": "stream",
     "text": [
      "[1, 2, 4, 5, 7, 9, 'f', 'str', 'gggd', 'ffffffh']\n",
      "['f', 'str', 'gggd', 'ffffffh', 1, 2, 4, 5, 7, 9]\n"
     ]
    }
   ],
   "source": [
    "#Zadanie 3\n",
    "\n",
    "def sorted_int_and_str(list: list[int | str], reversed: True | False) -> list[int | str]:\n",
    "    return sorted([x for x in list if isinstance(x, str)], key=lambda x: len(x)) + sorted([x for x in list if isinstance(x, int)]) if reversed else sorted([x for x in list if isinstance(x, int)]) + sorted([x for x in list if isinstance(x, str)], key=lambda x: len(x))\n",
    "\n",
    "list3 = [1, 2, 5, 'str', 'gggd', 7, 9, 4, 'f', 'ffffffh']\n",
    "print(sorted_int_and_str(list3, False))\n",
    "print(sorted_int_and_str(list3, True))"
   ]
  },
  {
   "cell_type": "code",
   "execution_count": 4,
   "id": "8df6cf86",
   "metadata": {},
   "outputs": [
    {
     "name": "stdout",
     "output_type": "stream",
     "text": [
      "[1, 2, 5.6, 6, 8.3, 0.007, 7, 3]\n"
     ]
    }
   ],
   "source": [
    "#Zadanie 4\n",
    "\n",
    "from typing import Any\n",
    "\n",
    "def extract_numbers(vals: list[Any]) -> list[int | float]:\n",
    "    return [x for x in map(lambda x: x if isinstance(x, int) is True or isinstance(x, float) is True else None, vals) if x is not None]\n",
    "\n",
    "list1 = [1, 2, 5.6, 'fdf', 'dfg', 6, 8.3, 0.007, 'r', 7, 3]\n",
    "print(extract_numbers(list1))"
   ]
  },
  {
   "cell_type": "code",
   "execution_count": 5,
   "id": "d801f001",
   "metadata": {},
   "outputs": [
    {
     "name": "stdout",
     "output_type": "stream",
     "text": [
      "[('Kamil', [9, 2, 4, 1]), ('Anna', [5, 2, 8, 6]), ('Jan', [1, 3, 4, 7]), ('Ewa', [6, 0, 5, 7])]\n",
      "[('Ewa', [6, 0, 5, 7]), ('Jan', [1, 3, 4, 7]), ('Kamil', [9, 2, 4, 1]), ('Anna', [5, 2, 8, 6])]\n",
      "[('Jan', [1, 3, 4, 7]), ('Kamil', [9, 2, 4, 1]), ('Ewa', [6, 0, 5, 7]), ('Anna', [5, 2, 8, 6])]\n",
      "[('Jan', [1, 3, 4, 7]), ('Kamil', [9, 2, 4, 1]), ('Ewa', [6, 0, 5, 7]), ('Anna', [5, 2, 8, 6])]\n",
      "Błąd! Sortować można tylko przy użyciu funkcji min, max, sum i abs. Wprowadź poprawną wartość!\n"
     ]
    }
   ],
   "source": [
    "#Zadanie 5\n",
    "\n",
    "def sorted_dict(dict: dict[str, list[int]], sort_type: str) -> str | dict[str, list[int]]:\n",
    "    return sorted(dict.items(), key=lambda item: getattr(__builtins__, sort_type)(item[1]), reverse=(True if sort_type == 'max' else False)) if sort_type in ['max', 'min', 'sum'] else (sorted(dict.items(), key=lambda item: sum(abs(x) for x in item[1]), reverse=False) if sort_type == 'abs' else 'Błąd! Sortować można tylko przy użyciu funkcji min, max, sum i abs. Wprowadź poprawną wartość!')\n",
    "\n",
    "dict5 = {'Jan': [1, 3, 4, 7], 'Anna': [5, 2, 8, 6], 'Kamil': [9, 2, 4, 1], 'Ewa': [6, 0, 5, 7]}\n",
    "print(sorted_dict(dict5, 'max'))\n",
    "print(sorted_dict(dict5, 'min'))\n",
    "print(sorted_dict(dict5, 'sum'))\n",
    "print(sorted_dict(dict5, 'abs'))\n",
    "print(sorted_dict(dict5, 'jsj'))"
   ]
  },
  {
   "cell_type": "code",
   "execution_count": null,
   "id": "6e364e72",
   "metadata": {},
   "outputs": [],
   "source": []
  }
 ],
 "metadata": {
  "kernelspec": {
   "display_name": "Python 3 (ipykernel)",
   "language": "python",
   "name": "python3"
  },
  "language_info": {
   "codemirror_mode": {
    "name": "ipython",
    "version": 3
   },
   "file_extension": ".py",
   "mimetype": "text/x-python",
   "name": "python",
   "nbconvert_exporter": "python",
   "pygments_lexer": "ipython3",
   "version": "3.11.5"
  }
 },
 "nbformat": 4,
 "nbformat_minor": 5
}
