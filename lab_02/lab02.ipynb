{
 "cells": [
  {
   "cell_type": "code",
   "execution_count": 1,
   "id": "0c9cd2ed",
   "metadata": {},
   "outputs": [
    {
     "name": "stdout",
     "output_type": "stream",
     "text": [
      "Podaj dane rozdzielone dowolnym separatorem: jabłko,gruszka,czereśnia,pomarańcza,dragon fruit,mango\n",
      "Podaj separator źródłowy: ,\n",
      "Podaj separator docelowy: /\n",
      "Dane z zmodyfikowanym separatorem:  jabłko/gruszka/czereśnia/pomarańcza/dragon fruit/mango\n"
     ]
    }
   ],
   "source": [
    "#Zadanie 1\n",
    "\n",
    "data = input('Podaj dane rozdzielone dowolnym separatorem: ')\n",
    "source_separator = input('Podaj separator źródłowy: ')\n",
    "target_separator = input('Podaj separator docelowy: ')\n",
    "\n",
    "splited_data = data.split(source_separator)\n",
    "joined_data = target_separator.join(splited_data)\n",
    "\n",
    "print('Dane z zmodyfikowanym separatorem: ', joined_data)"
   ]
  },
  {
   "cell_type": "code",
   "execution_count": 2,
   "id": "d138fc4c",
   "metadata": {},
   "outputs": [
    {
     "name": "stdout",
     "output_type": "stream",
     "text": [
      "Podaj łańcuch znaków: krokodyl i małpa\n",
      "Pierwsza część łańcucha znaków:  krokodyl\n",
      "Druga część łańcucha znaków:   i małpa\n",
      "Łańcuch znaków wyświetlony co drugi znak od końca:  ałmildkr\n"
     ]
    }
   ],
   "source": [
    "#Zadanie 2\n",
    "\n",
    "data2 = input('Podaj łańcuch znaków: ')\n",
    "\n",
    "middle_index_data2 = len(data2) // 2\n",
    "first_part = data2[:middle_index_data2]\n",
    "second_part = data2[middle_index_data2:]\n",
    "\n",
    "print('Pierwsza część łańcucha znaków: ', first_part)\n",
    "print('Druga część łańcucha znaków: ', second_part)\n",
    "\n",
    "print('Łańcuch znaków wyświetlony co drugi znak od końca: ', data2[::-2])"
   ]
  },
  {
   "cell_type": "code",
   "execution_count": 3,
   "id": "fc056efe",
   "metadata": {},
   "outputs": [
    {
     "name": "stdout",
     "output_type": "stream",
     "text": [
      "deus ex machina\n",
      "title():  Deus Ex Machina\n",
      "capitalize():  Deus ex machina\n",
      "zfill(20):  00000deus ex machina\n",
      "upper():  DEUS EX MACHINA\n",
      "count():  2\n",
      "center(20, '*'):  **deus ex machina***\n"
     ]
    }
   ],
   "source": [
    "#Zadanie 3\n",
    "\n",
    "data3 = 'deus ex machina'\n",
    "\n",
    "print(data3)\n",
    "print('title(): ', data3.title())\n",
    "print('capitalize(): ', data3.capitalize())\n",
    "print('zfill(20): ', data3.zfill(20))\n",
    "print('upper(): ', data3.upper())\n",
    "print('count(): ', data3.count('e'))\n",
    "print('center(20, \\'*\\'): ', data3.center(20, '*'))"
   ]
  },
  {
   "cell_type": "code",
   "execution_count": 4,
   "id": "5de0b2d8",
   "metadata": {},
   "outputs": [
    {
     "name": "stdout",
     "output_type": "stream",
     "text": [
      "Podaj dowolny łańcuch znaków: Lorem ipsum dolor sit amet, consectetur adipiscing elit.\n",
      "isalpha():  False\n",
      "isascii():  True\n",
      "isprintable():  <built-in method isprintable of str object at 0x0000021E45C00E30>\n",
      "istitle():  False\n",
      "isupper():  False\n"
     ]
    }
   ],
   "source": [
    "#Zadanie 4\n",
    "\n",
    "data4 = input('Podaj dowolny łańcuch znaków: ')\n",
    "\n",
    "print('isalpha(): ', data4.isalpha())\n",
    "print('isascii(): ', data4.isascii())\n",
    "print('isprintable(): ', data4.isprintable)\n",
    "print('istitle(): ', data4.istitle())\n",
    "print('isupper(): ', data4.isupper())"
   ]
  },
  {
   "cell_type": "code",
   "execution_count": 5,
   "id": "529748b8",
   "metadata": {},
   "outputs": [
    {
     "name": "stdout",
     "output_type": "stream",
     "text": [
      "         cortex\n",
      "3! * 7!\n",
      "cerebrum_______\n",
      "001.618\n",
      "+     1024\n"
     ]
    }
   ],
   "source": [
    "#Zadanie 5\n",
    "\n",
    "data5_1 = '{:>15}'.format('cortex')\n",
    "print(data5_1)\n",
    "\n",
    "data5_2 = '{}! * {}!'.format(3, 7)\n",
    "print(data5_2)\n",
    "\n",
    "data5_3 = '{:_<15}'.format('cerebrum')\n",
    "print(data5_3)\n",
    "\n",
    "data5_4 = '{:07.3f}'.format(1.618033988749894)\n",
    "print(data5_4)\n",
    "\n",
    "data5_5 = '{:=+10d}'.format(1024)\n",
    "print(data5_5)"
   ]
  },
  {
   "cell_type": "code",
   "execution_count": 6,
   "id": "5cdfe02e",
   "metadata": {},
   "outputs": [
    {
     "name": "stdout",
     "output_type": "stream",
     "text": [
      "Znak: ❥, int reprezentujący unicode: 10085, znak po użyciu int reprezentującego unicode tego znaku: ❥\n",
      "Znak: आ, int reprezentujący unicode: 2310, znak po użyciu int reprezentującego unicode tego znaku: आ\n",
      "Znak: ᛯ, int reprezentujący unicode: 5871, znak po użyciu int reprezentującego unicode tego znaku: ᛯ\n",
      "Znak: ℃, int reprezentujący unicode: 8451, znak po użyciu int reprezentującego unicode tego znaku: ℃\n",
      "Znak: Ⅻ, int reprezentujący unicode: 8555, znak po użyciu int reprezentującego unicode tego znaku: Ⅻ\n",
      "Znak: ∑, int reprezentujący unicode: 8721, znak po użyciu int reprezentującego unicode tego znaku: ∑\n",
      "Znak: ⏳, int reprezentujący unicode: 9203, znak po użyciu int reprezentującego unicode tego znaku: ⏳\n",
      "Znak: ❄, int reprezentujący unicode: 10052, znak po użyciu int reprezentującego unicode tego znaku: ❄\n",
      "Znak: ⽋, int reprezentujący unicode: 12107, znak po użyciu int reprezentującego unicode tego znaku: ⽋\n",
      "Znak: ꭢ, int reprezentujący unicode: 43874, znak po użyciu int reprezentującego unicode tego znaku: ꭢ\n"
     ]
    }
   ],
   "source": [
    "#Zadanie 6\n",
    "\n",
    "data6 = ['\\u2765', '\\u0906', '\\u16EF', '\\u2103', '\\u216B', '\\u2211', '\\u23F3', '\\u2744', '\\u2F4B', '\\uAB62']\n",
    "\n",
    "for x in data6:\n",
    "    print(f'Znak: {x}, int reprezentujący unicode: {ord(x)}, znak po użyciu int reprezentującego unicode tego znaku: {chr(ord(x))}')"
   ]
  }
 ],
 "metadata": {
  "kernelspec": {
   "display_name": "Python 3 (ipykernel)",
   "language": "python",
   "name": "python3"
  },
  "language_info": {
   "codemirror_mode": {
    "name": "ipython",
    "version": 3
   },
   "file_extension": ".py",
   "mimetype": "text/x-python",
   "name": "python",
   "nbconvert_exporter": "python",
   "pygments_lexer": "ipython3",
   "version": "3.11.5"
  }
 },
 "nbformat": 4,
 "nbformat_minor": 5
}
