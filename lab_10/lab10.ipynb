{
 "cells": [
  {
   "cell_type": "code",
   "execution_count": 1,
   "id": "c1a698e6",
   "metadata": {},
   "outputs": [
    {
     "name": "stdout",
     "output_type": "stream",
     "text": [
      "Stworzono folder: ./folder1/subfolder1\n",
      "Stworzono folder: ./folder2/subfolder2\n",
      "Stworzono folder: ./folder3\n"
     ]
    }
   ],
   "source": [
    "#Zadanie 1\n",
    "\n",
    "import os\n",
    "\n",
    "def create_directories(paths):\n",
    "    for path in paths:\n",
    "        if not os.path.exists(path):\n",
    "            os.makedirs(path)\n",
    "            print(f\"Stworzono folder: {path}\")\n",
    "        else:\n",
    "            print(f\"Folder już istnieje: {path}\")\n",
    "\n",
    "paths = [\"./folder1/subfolder1\", \"./folder2/subfolder2\", \"./folder3\"]\n",
    "create_directories(paths)"
   ]
  },
  {
   "cell_type": "code",
   "execution_count": 2,
   "id": "b1f8e078",
   "metadata": {},
   "outputs": [],
   "source": [
    "#Zadanie 2\n",
    "\n",
    "import os\n",
    "import csv\n",
    "\n",
    "def merge_txt_to_csv(folder_path, output_csv_path):\n",
    "    header = None\n",
    "    rows = []\n",
    "    \n",
    "    for root, _, files in os.walk(folder_path):\n",
    "        for file in files:\n",
    "            if file.endswith('.txt'):\n",
    "                file_path = os.path.join(root, file)\n",
    "                with open(file_path, 'r', encoding='utf-8') as f:\n",
    "                    reader = csv.reader(f, delimiter='\\t')\n",
    "                    try:\n",
    "                        file_header = next(reader)\n",
    "                    except StopIteration:\n",
    "                        continue\n",
    "                    \n",
    "                    if header is None:\n",
    "                        header = file_header\n",
    "                        rows.append(header)\n",
    "                    elif header != file_header:\n",
    "                        continue\n",
    "                    \n",
    "                    for row in reader:\n",
    "                        rows.append(row)\n",
    "    \n",
    "    with open(output_csv_path, 'w', newline='', encoding='utf-8') as f:\n",
    "        writer = csv.writer(f)\n",
    "        writer.writerows(rows)\n",
    "\n",
    "merge_txt_to_csv('data_for_lab_10', 'output.csv')"
   ]
  },
  {
   "cell_type": "code",
   "execution_count": 3,
   "id": "252f7d48",
   "metadata": {},
   "outputs": [
    {
     "name": "stdout",
     "output_type": "stream",
     "text": [
      "Podaj czas (HH:MM:SS): 13:21:00\n",
      "Tokyo: 22:40:00\n",
      "Waszyngton: 08:25:00\n",
      "Sydney: 23:26:00\n",
      "Londyn: 13:20:00\n"
     ]
    }
   ],
   "source": [
    "#Zadanie 3\n",
    "\n",
    "from datetime import datetime, timedelta\n",
    "import pytz\n",
    "\n",
    "def display_time_in_timezones(time_str):\n",
    "    time_format = \"%H:%M:%S\"\n",
    "    input_time = datetime.strptime(time_str, time_format)\n",
    "    \n",
    "    timezones = {\n",
    "        'Tokyo': 'Asia/Tokyo',\n",
    "        'Waszyngton': 'America/New_York',\n",
    "        'Sydney': 'Australia/Sydney',\n",
    "        'Londyn': 'Europe/London'\n",
    "    }\n",
    "    \n",
    "    utc_time = input_time.replace(tzinfo=pytz.utc)\n",
    "    \n",
    "    for city, tz in timezones.items():\n",
    "        local_time = utc_time.astimezone(pytz.timezone(tz))\n",
    "        print(f\"{city}: {local_time.strftime(time_format)}\")\n",
    "\n",
    "user_time = input(\"Podaj czas (HH:MM:SS): \")\n",
    "display_time_in_timezones(user_time)"
   ]
  },
  {
   "cell_type": "code",
   "execution_count": 4,
   "id": "5893f223",
   "metadata": {},
   "outputs": [
    {
     "name": "stdout",
     "output_type": "stream",
     "text": [
      "Dzisiaj masz 23 lat, 6 miesięcy i 11 dni.\n",
      "Do twoich kolejnych urodzin pozostało 171 dni.\n"
     ]
    }
   ],
   "source": [
    "#Zadanie 4\n",
    "\n",
    "from datetime import datetime\n",
    "\n",
    "def calculate_age_and_days_to_birthday(birth_date):\n",
    "    today = datetime.today()\n",
    "    birth_date = datetime.strptime(birth_date, \"%Y-%m-%d\")\n",
    "    \n",
    "    age_years = today.year - birth_date.year\n",
    "    age_months = today.month - birth_date.month\n",
    "    age_days = today.day - birth_date.day\n",
    "    \n",
    "    if age_days < 0:\n",
    "        age_days += 30\n",
    "        age_months -= 1\n",
    "    if age_months < 0:\n",
    "        age_months += 12\n",
    "        age_years -= 1\n",
    "    \n",
    "    next_birthday = birth_date.replace(year=today.year)\n",
    "    if today > next_birthday:\n",
    "        next_birthday = next_birthday.replace(year=today.year + 1)\n",
    "    \n",
    "    days_to_birthday = (next_birthday - today).days\n",
    "    \n",
    "    print(f\"Dzisiaj masz {age_years} lat, {age_months} miesięcy i {age_days} dni.\")\n",
    "    print(f\"Do twoich kolejnych urodzin pozostało {days_to_birthday} dni.\")\n",
    "\n",
    "calculate_age_and_days_to_birthday(\"2000-12-03\")"
   ]
  },
  {
   "cell_type": "code",
   "execution_count": null,
   "id": "2169eaea",
   "metadata": {},
   "outputs": [],
   "source": []
  }
 ],
 "metadata": {
  "kernelspec": {
   "display_name": "Python 3 (ipykernel)",
   "language": "python",
   "name": "python3"
  },
  "language_info": {
   "codemirror_mode": {
    "name": "ipython",
    "version": 3
   },
   "file_extension": ".py",
   "mimetype": "text/x-python",
   "name": "python",
   "nbconvert_exporter": "python",
   "pygments_lexer": "ipython3",
   "version": "3.11.5"
  }
 },
 "nbformat": 4,
 "nbformat_minor": 5
}
