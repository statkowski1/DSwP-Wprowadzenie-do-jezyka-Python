{
 "cells": [
  {
   "cell_type": "code",
   "execution_count": 1,
   "id": "9faa1823",
   "metadata": {},
   "outputs": [
    {
     "name": "stdout",
     "output_type": "stream",
     "text": [
      "Zbiór A =  [0.1, 0.1111111111111111, 0.125, 0.14285714285714285, 0.16666666666666666, 0.2, 0.25, 0.3333333333333333, 0.5, 1.0]\n",
      "Zbiór B =  [1, 2, 4, 8, 16, 32, 64, 128, 256, 512, 1024]\n",
      "Zbiór C =  [4, 8, 16, 32, 64, 128, 256, 512, 1024]\n"
     ]
    }
   ],
   "source": [
    "#Zadanie 1\n",
    "\n",
    "A = {1 / x for x in range(1, 11)}\n",
    "B = {2 ** x for x in range(0, 11)}\n",
    "C = {x for x in B if x % 4 == 0}\n",
    "\n",
    "print('Zbiór A = ', sorted(A))\n",
    "print('Zbiór B = ', sorted(B))\n",
    "print('Zbiór C = ', sorted(C))"
   ]
  },
  {
   "cell_type": "code",
   "execution_count": 2,
   "id": "927b2126",
   "metadata": {},
   "outputs": [
    {
     "name": "stdout",
     "output_type": "stream",
     "text": [
      "[[3, 3, 0, 9], [4, 2, 4, 7], [1, 9, 3, 9], [9, 0, 0, 10]]\n",
      "[3, 2, 3, 10]\n"
     ]
    }
   ],
   "source": [
    "#Zadanie 2\n",
    "\n",
    "import random\n",
    "\n",
    "matrix = [[random.randint(0, 10) for j in range(0, 4)] for i in range(0, 4)]\n",
    "list1 = [matrix[x][x] for x in range(0, 4)]\n",
    "\n",
    "print(matrix)\n",
    "print(list1)"
   ]
  },
  {
   "cell_type": "code",
   "execution_count": 3,
   "id": "fd762f0f",
   "metadata": {},
   "outputs": [
    {
     "name": "stdout",
     "output_type": "stream",
     "text": [
      "[('Ala', [65, 108, 97]), ('ma', [109, 97]), ('kota.', [107, 111, 116, 97, 46])]\n"
     ]
    }
   ],
   "source": [
    "#Zadanie 3\n",
    "\n",
    "text = \"Ala ma kota.\"\n",
    "words = text.split()\n",
    "tuples = [(words[i], [ord(words[i][j]) for j in range(0, len(words[i]))]) for i in range(0, len(words))]\n",
    "\n",
    "print(tuples)"
   ]
  },
  {
   "cell_type": "code",
   "execution_count": 4,
   "id": "55171c46",
   "metadata": {},
   "outputs": [
    {
     "name": "stdout",
     "output_type": "stream",
     "text": [
      "-1\n",
      "-1.0\n",
      "(-3.732050807568877, -0.2679491924311228)\n"
     ]
    }
   ],
   "source": [
    "#Zadanie 4\n",
    "\n",
    "import math\n",
    "\n",
    "def row_kwadratowe(a: int | float, b: int | float, c: int | float) -> int | float:\n",
    "    delta: int | float = b**2 - 4 * a * c\n",
    "    if (delta < 0):\n",
    "        # brak pierwiastków\n",
    "        return -1\n",
    "    elif (delta == 0):\n",
    "        # jeden pierwiastek\n",
    "        x = (-b) / (2 * a)\n",
    "        return x\n",
    "    else:\n",
    "        # równanie ma dwa pierwiastki\n",
    "        x1: int | float = (- b - math.sqrt(delta)) / (2 * a)\n",
    "        x2: int | float = (- b + math.sqrt(delta)) / (2 * a)\n",
    "        return x1, x2\n",
    "\n",
    "print(row_kwadratowe(6,1,3))\n",
    "print(row_kwadratowe(1,2,1))\n",
    "print(row_kwadratowe(1,4,1))"
   ]
  },
  {
   "cell_type": "code",
   "execution_count": 5,
   "id": "62b33378",
   "metadata": {},
   "outputs": [
    {
     "name": "stdout",
     "output_type": "stream",
     "text": [
      "[('oczka: 6', 'rzutów: 2'), ('oczka: 5', 'rzutów: 2'), ('oczka: 4', 'rzutów: 1'), ('oczka: 3', 'rzutów: 4'), ('oczka: 2', 'rzutów: 5'), ('oczka: 1', 'rzutów: 3')]\n"
     ]
    }
   ],
   "source": [
    "#Zadanie 5\n",
    "\n",
    "def throw_a_dice(n: int) -> tuple:\n",
    "    list = [random.randint(1, 6) for x in range(0, n)]\n",
    "    return [('oczka: ' + str(x), 'rzutów: ' + str(list.count(x))) for x in range(6, 0, -1)]\n",
    "\n",
    "print(throw_a_dice(17))"
   ]
  },
  {
   "cell_type": "code",
   "execution_count": 6,
   "id": "f8e07452",
   "metadata": {},
   "outputs": [
    {
     "name": "stdout",
     "output_type": "stream",
     "text": [
      "['diament', 'długopis', 'jabłko', 'kameleon', 'kanapka', 'karmazyn', 'kartka', 'klawiatura', 'lapis', 'laptop', 'magazyn', 'magenta', 'magnes', 'małpa', 'mysz', 'naszyjnik', 'niebieski', 'notatnik', 'ołówek', 'pióro', 'pokój', 'pomarańczowy', 'produkt', 'rubin', 'szkarłat', 'słoń', 'telefon', 'topór', 'TV', 'ubranie', 'widły', 'wino', 'żarówka']\n"
     ]
    }
   ],
   "source": [
    "#Zadanie 6\n",
    "\n",
    "def sorting_words(* words: str) -> list:\n",
    "    return sorted(words, key=str.lower)\n",
    "\n",
    "print(sorting_words('ołówek', 'długopis', 'kartka', 'telefon', 'małpa', 'słoń', 'kameleon', 'pióro', 'karmazyn', 'szkarłat',\n",
    "                    'niebieski','magenta', 'pomarańczowy', 'laptop', 'kanapka', 'pokój', 'magazyn', 'jabłko', 'wino',\n",
    "                    'naszyjnik', 'lapis', 'diament','rubin', 'żarówka', 'notatnik', 'produkt', 'ubranie', 'TV', 'klawiatura',\n",
    "                    'mysz', 'widły', 'topór', 'magnes'))"
   ]
  },
  {
   "cell_type": "code",
   "execution_count": 7,
   "id": "50507d1e",
   "metadata": {},
   "outputs": [
    {
     "name": "stdout",
     "output_type": "stream",
     "text": [
      "Suma wyników wszystkich drużyn: 1587\n"
     ]
    }
   ],
   "source": [
    "#Zadanie 7\n",
    "\n",
    "def teams_points_score(** teams_and_points) -> int | float:\n",
    "    return sum(teams_and_points[x] for x in teams_and_points)\n",
    "\n",
    "print('Suma wyników wszystkich drużyn:', teams_points_score(green_team=90, red_team=125, orange_team=200, purple_team=0,\n",
    "                                                            magenta_team=205, blue_team=179, yellow_team=72, black_team=48,\n",
    "                                                            white_team=256, brown_team=93, silver_team=231, navy_team=88))"
   ]
  },
  {
   "cell_type": "code",
   "execution_count": null,
   "id": "fafeddd3",
   "metadata": {},
   "outputs": [],
   "source": []
  }
 ],
 "metadata": {
  "kernelspec": {
   "display_name": "Python 3 (ipykernel)",
   "language": "python",
   "name": "python3"
  },
  "language_info": {
   "codemirror_mode": {
    "name": "ipython",
    "version": 3
   },
   "file_extension": ".py",
   "mimetype": "text/x-python",
   "name": "python",
   "nbconvert_exporter": "python",
   "pygments_lexer": "ipython3",
   "version": "3.11.5"
  }
 },
 "nbformat": 4,
 "nbformat_minor": 5
}
