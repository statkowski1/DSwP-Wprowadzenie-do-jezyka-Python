{
 "cells": [
  {
   "cell_type": "code",
   "execution_count": 1,
   "id": "999ea5d8",
   "metadata": {},
   "outputs": [
    {
     "name": "stdout",
     "output_type": "stream",
     "text": [
      "17\n",
      "14\n",
      "5.87\n",
      "404700000000.0\n"
     ]
    }
   ],
   "source": [
    "#Zadanie 1\n",
    "\n",
    "int1 = int(17)\n",
    "int2 = int('1110', 2)\n",
    "\n",
    "float1 = float(5.87)\n",
    "float2 = float('4.047e11')\n",
    "\n",
    "print(int1)\n",
    "print(int2)\n",
    "print(float1)\n",
    "print(float2)"
   ]
  },
  {
   "cell_type": "code",
   "execution_count": 2,
   "id": "3ca4e6fc",
   "metadata": {},
   "outputs": [
    {
     "name": "stdout",
     "output_type": "stream",
     "text": [
      "Liczba bitów dla 29 wynosi: 4\n",
      "Czy 7.0 to liczba całkowita? True\n",
      "Czy 7.9401 to liczba całkowita? False\n"
     ]
    }
   ],
   "source": [
    "#Zadanie 2\n",
    "\n",
    "number = 29\n",
    "bit_count = number.bit_count()\n",
    "print(f\"Liczba bitów dla {number} wynosi: {bit_count}\")\n",
    "\n",
    "variable1 = 7.0\n",
    "variable2 = 7.9401\n",
    "print(f\"Czy {variable1} to liczba całkowita? {variable1.is_integer()}\")\n",
    "print(f\"Czy {variable2} to liczba całkowita? {variable2.is_integer()}\")"
   ]
  },
  {
   "cell_type": "code",
   "execution_count": 3,
   "id": "29512322",
   "metadata": {},
   "outputs": [
    {
     "name": "stdout",
     "output_type": "stream",
     "text": [
      "Liczba dziesiętna 43 w postaci binarnej wynosi: 0b101011\n",
      "Liczba binarna 0b101011 w postaci dziesiętnej wynosi: 43\n"
     ]
    }
   ],
   "source": [
    "#Zadanie 3\n",
    "\n",
    "number2 = 43\n",
    "decimal_to_binary = bin(number2)\n",
    "print(f\"Liczba dziesiętna {number2} w postaci binarnej wynosi: {decimal_to_binary}\")\n",
    "binary_to_decimal = int(decimal_to_binary, 2)\n",
    "print(f\"Liczba binarna {decimal_to_binary} w postaci dziesiętnej wynosi: {binary_to_decimal}\")"
   ]
  },
  {
   "cell_type": "code",
   "execution_count": 4,
   "id": "186dd015",
   "metadata": {},
   "outputs": [
    {
     "name": "stdout",
     "output_type": "stream",
     "text": [
      "a =  150\n",
      "b =  23\n",
      "bin(a) =  0b10010110\n",
      "bin(b) =  0b10111\n",
      "\n",
      "a & b =  22\n",
      "bin(a & b) =  0b10110\n",
      "\n",
      "a | b =  151\n",
      "bin(a | b) =  0b10010111\n",
      "\n",
      "a ^ b =  129\n",
      "bin(a ^ b) =  0b10000001\n",
      "\n",
      "a << b =  1258291200\n",
      "bin(a << b) =  0b1001011000000000000000000000000\n",
      "\n",
      "a >> b =  0\n",
      "bin(a >> b) =  0b0\n"
     ]
    }
   ],
   "source": [
    "#Zadanie 4\n",
    "\n",
    "number3 = 150\n",
    "number4 = 23\n",
    "print(\"a = \", number3)\n",
    "print(\"b = \", number4)\n",
    "print(\"bin(a) = \", bin(number3))\n",
    "print(\"bin(b) = \", bin(number4))\n",
    "print()\n",
    "print(\"a & b = \", number3 & number4)\n",
    "print(\"bin(a & b) = \", bin(number3 & number4))\n",
    "print()\n",
    "print(\"a | b = \", number3 | number4)\n",
    "print(\"bin(a | b) = \", bin(number3 | number4))\n",
    "print()\n",
    "print(\"a ^ b = \", number3 ^ number4)\n",
    "print(\"bin(a ^ b) = \", bin(number3 ^ number4))\n",
    "print()\n",
    "print(\"a << b = \", number3 << number4)\n",
    "print(\"bin(a << b) = \", bin(number3 << number4))\n",
    "print()\n",
    "print(\"a >> b = \", number3 >> number4)\n",
    "print(\"bin(a >> b) = \", bin(number3 >> number4))"
   ]
  },
  {
   "cell_type": "code",
   "execution_count": 5,
   "id": "ec0637cc",
   "metadata": {},
   "outputs": [
    {
     "name": "stdout",
     "output_type": "stream",
     "text": [
      "Liczba 1.618 w postaci heksadecymalna wynosi 0x1.9e353f7ced917p+0\n",
      "Liczba heksadecymalna 0x1.9e353f7ced917p+0 wynosi: 1.618\n"
     ]
    }
   ],
   "source": [
    "#Zadanie 5\n",
    "\n",
    "number5 = 1.618\n",
    "float_to_hex = number5.hex()\n",
    "print(f\"Liczba {number5} w postaci heksadecymalna wynosi {float_to_hex}\")\n",
    "hex_to_float = float.fromhex(float_to_hex)\n",
    "print(f\"Liczba heksadecymalna {float_to_hex} wynosi: {hex_to_float}\")"
   ]
  },
  {
   "cell_type": "code",
   "execution_count": null,
   "id": "4ca885c7",
   "metadata": {},
   "outputs": [],
   "source": []
  }
 ],
 "metadata": {
  "kernelspec": {
   "display_name": "Python 3 (ipykernel)",
   "language": "python",
   "name": "python3"
  },
  "language_info": {
   "codemirror_mode": {
    "name": "ipython",
    "version": 3
   },
   "file_extension": ".py",
   "mimetype": "text/x-python",
   "name": "python",
   "nbconvert_exporter": "python",
   "pygments_lexer": "ipython3",
   "version": "3.11.5"
  }
 },
 "nbformat": 4,
 "nbformat_minor": 5
}
