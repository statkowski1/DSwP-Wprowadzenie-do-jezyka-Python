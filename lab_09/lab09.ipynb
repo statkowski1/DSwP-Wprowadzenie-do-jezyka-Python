{
 "cells": [
  {
   "cell_type": "code",
   "execution_count": 1,
   "id": "37636d7b",
   "metadata": {},
   "outputs": [
    {
     "name": "stdout",
     "output_type": "stream",
     "text": [
      "<__main__.Point object at 0x000002205F9160D0>\n",
      "0\n",
      "0\n"
     ]
    }
   ],
   "source": [
    "#Zadanie 1\n",
    "\n",
    "class Point:\n",
    "    def __init__(self, x=0, y=0):\n",
    "        self.x = x\n",
    "        self.y = y\n",
    "\n",
    "p1 = Point()\n",
    "print(p1)\n",
    "print(p1.x)\n",
    "print(p1.y)"
   ]
  },
  {
   "cell_type": "code",
   "execution_count": 2,
   "id": "31c23917",
   "metadata": {},
   "outputs": [
    {
     "name": "stdout",
     "output_type": "stream",
     "text": [
      "Point(3, 7)\n"
     ]
    }
   ],
   "source": [
    "#Zadanie 2\n",
    "\n",
    "class Point:\n",
    "    def __init__(self, x=0, y=0):\n",
    "        self.x = x\n",
    "        self.y = y\n",
    "\n",
    "    def __str__(self):\n",
    "        return f'Point({self.x}, {self.y})'\n",
    "\n",
    "    \n",
    "p2 = Point(3, 7)\n",
    "print(p2)"
   ]
  },
  {
   "cell_type": "code",
   "execution_count": 3,
   "id": "62b9577a",
   "metadata": {},
   "outputs": [
    {
     "name": "stdout",
     "output_type": "stream",
     "text": [
      "Point(3, 6)\n"
     ]
    }
   ],
   "source": [
    "#Zadanie 3\n",
    "\n",
    "class Point:\n",
    "    def __init__(self, x=0, y=0):\n",
    "        self.x = x\n",
    "        self.y = y\n",
    "\n",
    "    def __str__(self):\n",
    "        return f'Point({self.x}, {self.y})'\n",
    "    \n",
    "    def __mul__(self, scalar):\n",
    "        if isinstance(scalar, int):\n",
    "            return Point(self.x * scalar, self.y * scalar)\n",
    "        return NotImplemented\n",
    "\n",
    "p3 = Point(1, 2)\n",
    "p_multiplied = p3 * 3\n",
    "print(p_multiplied)"
   ]
  },
  {
   "cell_type": "code",
   "execution_count": 4,
   "id": "7e9b5eea",
   "metadata": {},
   "outputs": [
    {
     "name": "stdout",
     "output_type": "stream",
     "text": [
      "True\n",
      "False\n"
     ]
    }
   ],
   "source": [
    "#Zadanie 4\n",
    "\n",
    "class Point:\n",
    "    def __init__(self, x=0, y=0):\n",
    "        self.x = x\n",
    "        self.y = y\n",
    "\n",
    "    def __str__(self):\n",
    "        return f'Point({self.x}, {self.y})'\n",
    "    \n",
    "    def __mul__(self, scalar):\n",
    "        if isinstance(scalar, int):\n",
    "            return Point(self.x * scalar, self.y * scalar)\n",
    "        return NotImplemented\n",
    "\n",
    "    def __eq__(self, other):\n",
    "        if isinstance(other, Point):\n",
    "            return self.x == other.x and self.y == other.y\n",
    "        return False\n",
    "\n",
    "p4 = Point(1, 2)\n",
    "p5 = Point(1, 2)\n",
    "p6 = Point(3, 4)\n",
    "print(p4 == p5)\n",
    "print(p4 == p6)"
   ]
  },
  {
   "cell_type": "code",
   "execution_count": 5,
   "id": "fe8ec6d8",
   "metadata": {},
   "outputs": [
    {
     "name": "stdout",
     "output_type": "stream",
     "text": [
      "['Point(1, 2)', 'Point(3, 4)']\n"
     ]
    }
   ],
   "source": [
    "#Zadanie 5\n",
    "\n",
    "class Polygon:\n",
    "    def __init__(self):\n",
    "        self.points = []\n",
    "\n",
    "    def add_point(self, point):\n",
    "        if isinstance(point, Point):\n",
    "            self.points.append(point)\n",
    "\n",
    "pol1 = Polygon()\n",
    "pol1.add_point(p4)\n",
    "pol1.add_point(p6)\n",
    "print([str(point) for point in pol1.points])"
   ]
  },
  {
   "cell_type": "code",
   "execution_count": 6,
   "id": "73183de8",
   "metadata": {},
   "outputs": [
    {
     "name": "stdout",
     "output_type": "stream",
     "text": [
      "Polygon[Point(1, 2), Point(3, 4)]\n"
     ]
    }
   ],
   "source": [
    "#Zadanie 6\n",
    "\n",
    "class Polygon:\n",
    "    def __init__(self):\n",
    "        self.points = []\n",
    "\n",
    "    def add_point(self, point):\n",
    "        if isinstance(point, Point):\n",
    "            self.points.append(point)\n",
    "\n",
    "    def __str__(self):\n",
    "        points_str = ', '.join(str(point) for point in self.points)\n",
    "        return f'Polygon[{points_str}]'\n",
    "\n",
    "pol2 = Polygon()\n",
    "pol2.add_point(Point(1, 2))\n",
    "pol2.add_point(Point(3, 4))\n",
    "print(pol2)"
   ]
  },
  {
   "cell_type": "code",
   "execution_count": 7,
   "id": "5e1563f7",
   "metadata": {
    "scrolled": true
   },
   "outputs": [
    {
     "name": "stdout",
     "output_type": "stream",
     "text": [
      "Point(1, 2)\n",
      "['Point(1, 2)', 'Point(3, 4)']\n"
     ]
    }
   ],
   "source": [
    "#Zadanie 7\n",
    "\n",
    "class Polygon:\n",
    "    def __init__(self):\n",
    "        self.points = []\n",
    "\n",
    "    def add_point(self, point):\n",
    "        if isinstance(point, Point):\n",
    "            self.points.append(point)\n",
    "\n",
    "    def __str__(self):\n",
    "        points_str = ', '.join(str(point) for point in self.points)\n",
    "        return f'Polygon[{points_str}]'\n",
    "    \n",
    "    def __getitem__(self, item):\n",
    "        if isinstance(item, int) or isinstance(item, slice):\n",
    "            return self.points[item]\n",
    "        else:\n",
    "            raise TypeError(\"Invalid argument type.\")\n",
    "\n",
    "pol3 = Polygon()\n",
    "pol3.add_point(Point(1, 2))\n",
    "pol3.add_point(Point(3, 4))\n",
    "\n",
    "print(pol3[0])\n",
    "print([str(point) for point in pol3[:2]])"
   ]
  },
  {
   "cell_type": "code",
   "execution_count": null,
   "id": "18b7b338",
   "metadata": {},
   "outputs": [],
   "source": []
  }
 ],
 "metadata": {
  "kernelspec": {
   "display_name": "Python 3 (ipykernel)",
   "language": "python",
   "name": "python3"
  },
  "language_info": {
   "codemirror_mode": {
    "name": "ipython",
    "version": 3
   },
   "file_extension": ".py",
   "mimetype": "text/x-python",
   "name": "python",
   "nbconvert_exporter": "python",
   "pygments_lexer": "ipython3",
   "version": "3.11.5"
  }
 },
 "nbformat": 4,
 "nbformat_minor": 5
}
