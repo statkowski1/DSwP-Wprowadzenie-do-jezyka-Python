{
 "cells": [
  {
   "cell_type": "code",
   "execution_count": 1,
   "id": "974a95bb",
   "metadata": {},
   "outputs": [
    {
     "name": "stdout",
     "output_type": "stream",
     "text": [
      "<_csv.reader object at 0x0000014C4A882E60>\n"
     ]
    }
   ],
   "source": [
    "#Zadanie 1\n",
    "#W zadaniu można wykorzystać zamiast encoding='cp1252' tak aby działał encoding='utf-8' dodanie do open parametru\n",
    "#errors='ignore' lub errors='replace', ale w pierwszym przypadku znikną znaki, które nie odpowiadają temu formatowi, zaś w\n",
    "#drugim przypadku zostanie w miejsce tego umieszczony znak \"�\"\n",
    "\n",
    "import csv\n",
    "import datetime\n",
    "\n",
    "list = []\n",
    "names = []\n",
    "\n",
    "with open(r'C:\\Users\\statk\\Downloads\\zamowienia.csv', newline='', encoding='cp1252') as csv_file:\n",
    "    data = csv.reader(csv_file, delimiter=';')\n",
    "    names.append(next(data))\n",
    "    for row in data:\n",
    "        list.append(row)\n",
    "    print(data)\n",
    "    \n",
    "data_polska = []\n",
    "data_niemcy = []\n",
    "\n",
    "for row in list:\n",
    "    row[4] = row[4].split('z')[0].replace(' ', '').replace(',', '.')\n",
    "    row[2] = datetime.datetime.strptime(row[2], '%d.%m.%Y').strftime('%Y-%m-%d')\n",
    "    if row[0] == 'Polska':\n",
    "        data_polska.append(row)\n",
    "    elif row[0] == 'Niemcy':\n",
    "        data_niemcy.append(row)\n",
    "    \n",
    "with open('zamowienia_polska.csv', 'w', newline='', encoding='cp1252') as csv_file:\n",
    "    data = csv.writer(csv_file, delimiter=';')\n",
    "    data.writerows(names)\n",
    "    data.writerows(data_polska)\n",
    "    \n",
    "with open('zamowienia_niemcy.csv', 'w', newline='', encoding='cp1252') as csv_file:\n",
    "    data = csv.writer(csv_file, delimiter=';')\n",
    "    data.writerows(names)\n",
    "    data.writerows(data_niemcy)"
   ]
  },
  {
   "cell_type": "code",
   "execution_count": 2,
   "id": "69c3f5ae",
   "metadata": {},
   "outputs": [],
   "source": [
    "#Zadanie 2\n",
    "\n",
    "def merge_files(files_list, file_name):\n",
    "    with open(file_name, 'w', encoding='utf-8') as file_name:\n",
    "        for name_file in files_list:\n",
    "            with open(name_file, 'r') as infile:\n",
    "                file_name.write(infile.read())\n",
    "\n",
    "files_list = ['file1.txt', 'file2.txt', 'file3.txt', 'file4.txt']\n",
    "merge_files(files_list, 'merged_files.txt')"
   ]
  },
  {
   "cell_type": "code",
   "execution_count": 3,
   "id": "92ab7d7a",
   "metadata": {},
   "outputs": [
    {
     "name": "stdout",
     "output_type": "stream",
     "text": [
      "[69, 50, 19]\n",
      "[0.24, 1.2]\n",
      "Pierwszy parametr musisz określić jako 0 (najmniejsze liczby) lub 1 (największe liczby) oraz parametr n musi być większy od zera!\n"
     ]
    }
   ],
   "source": [
    "#Zadanie 3\n",
    "\n",
    "def n_largest_or_smallest_numbers(largest_or_smallest, n, numeric_list):\n",
    "    if largest_or_smallest == 0:\n",
    "        return sorted(numeric_list, reverse=True)[:n]\n",
    "    elif largest_or_smallest == 1:\n",
    "        return sorted(numeric_list)[:n]\n",
    "    else:\n",
    "        return \"Pierwszy parametr musisz określić jako 0 (najmniejsze liczby) lub 1 (największe liczby) oraz parametr n musi być większy od zera!\"\n",
    "\n",
    "numeric_list = [1.2, 19, 0.24, 50, 69]\n",
    "print(n_largest_or_smallest_numbers(0, 3, numeric_list))\n",
    "print(n_largest_or_smallest_numbers(1, 2, numeric_list))\n",
    "print(n_largest_or_smallest_numbers(2, 2, numeric_list))"
   ]
  },
  {
   "cell_type": "code",
   "execution_count": 4,
   "id": "9e94bf63",
   "metadata": {},
   "outputs": [
    {
     "name": "stdout",
     "output_type": "stream",
     "text": [
      "{'int': [1, 5], 'float': [2.3, 3.0], 'str': ['Zbyszek', 'Marian']}\n"
     ]
    }
   ],
   "source": [
    "#Zadanie 4\n",
    "\n",
    "mieszana = [1, 2.3, 'Zbyszek', 5, 'Marian', 3.0]\n",
    "dict = {}\n",
    "\n",
    "for x in mieszana:\n",
    "    if str(type(x).__name__) not in dict:\n",
    "        dict[str(type(x).__name__)] = [x]\n",
    "    else:\n",
    "        dict[str(type(x).__name__)].append(x)\n",
    "        \n",
    "print(dict)"
   ]
  },
  {
   "cell_type": "code",
   "execution_count": 5,
   "id": "974d858c",
   "metadata": {},
   "outputs": [],
   "source": [
    "#Zadanie 5\n",
    "\n",
    "def split_and_save_last_names(last_names):\n",
    "    with open('A-M_nazwiska.txt', 'w', newline='', encoding='utf-8') as file:\n",
    "        file.write('\\n'.join([last_name for last_name in sorted(last_names) if last_name[0].lower() <= 'm']))\n",
    "    with open('N-Ż_nazwiska.txt', 'w', newline='', encoding='utf-8') as file:\n",
    "        file.write('\\n'.join([last_name for last_name in sorted(last_names) if last_name[0].lower() >= 'n']))\n",
    "\n",
    "last_names = ['Kościański', 'Kur', 'Krupa', 'Guła', 'Bucki', 'Rynkowski', 'Bar', 'Abramowicz', 'Krężel', 'Cisak', 'Grunwald',\n",
    "              'Durzyński', 'Zachara', 'Bieniek', 'Kula', 'Statkiewicz', 'Dębiński', 'Duma', 'Piwowarski', 'Szala', 'Salwa',\n",
    "              'Ujma', 'Szeląg', 'Uznański', 'Krzysiek', 'Flis', 'Dudka', 'Chęciński', 'Szwarc', 'Jurkiewicz', 'Ryłko',\n",
    "              'Jakubik', 'Dałek', 'Żabicki', 'Romaniuk', 'Gawryluk', 'Gostyński', 'Wilczyński', 'Brożek', 'Sołtysik',\n",
    "              'Schneider', 'Urbanek', 'Ścisłowski', 'Karolewski', 'Góralczyk', 'Pietruczuk', 'Paś', 'Tylkowski', 'Cios', 'Huk',\n",
    "              'Kęsik', 'Gajda', 'Motyl', 'Kuna', 'Podolski', 'Siczek', 'Dzwonkowski', 'Kleszcz', 'Müller', 'Niedziałek',\n",
    "              'Chludziński', 'Zalewski', 'Suszek', 'Krajewski', 'Kortas', 'Goch', 'Tarasiuk', 'Bil', 'Ryszka', 'Łęgowski',\n",
    "              'Rozbicki', 'Bęben', 'Tkaczyk', 'Mach', 'Korniluk', 'Jagoda', 'Łatka', 'Sibiński', 'Gawryś', 'Młyński',\n",
    "              'Rosłaniec', 'Barczak', 'Struk', 'Respondek', 'Wachowiak', 'Papież', 'Moczydłowski', 'Jarczewski', 'Grabek',\n",
    "              'Sobotka', 'Mądra', 'Gaj', 'Imiołek', 'Antonik', 'Korytkowski', 'Berent', 'Osiecki', 'Żelechowski', 'Lipowski',\n",
    "              'Łukaszek', 'Kachniarz', 'Wojcieszak', 'Kantor', 'Błażewicz', 'Grządziel', 'Wasiński', 'Grzybek', 'Olechowski',\n",
    "              'Danielski', 'Pucek', 'Galas', 'Burak', 'Wróbel', 'Górecki', 'Sikora', 'Marcinek', 'Mirowski', 'Tracz',\n",
    "              'Wiktorowski', 'Kielar', 'Trela', 'Michalik', 'Najder', 'Stefanek', 'Słoma', 'Olszak', 'Magdziak', 'Ożóg',\n",
    "              'Żochowski', 'Karpiuk', 'Filipczak', 'Durski', 'Ficek', 'Dawid', 'Kustra', 'Karpowicz', 'Wit', 'Pamuła',\n",
    "              'Misztal', 'Naruszewicz', 'Czarna', 'Łukaszyk', 'Prusak', 'Burda', 'Rusek', 'Szmyd', 'Krupiński', 'Jackowiak',\n",
    "              'Bednarczyk', 'Molski', 'Baniak', 'Reszka', 'Augustowski', 'Dziewięcki', 'Telega', 'Siwiak', 'Matyja', 'Szczuka',\n",
    "              'Jędrych', 'Kudzia', 'Jarosiński', 'Dalecki', 'Graf', 'Krynicki', 'Wysocki', 'Łebek', 'Fiedor', 'Turkowski',\n",
    "              'Tucholski', 'Iwaszkiewicz', 'Dąbkowski', 'Cudak', 'Faliński', 'Lisowski', 'Nawrocki', 'Czapka', 'Sobala',\n",
    "              'Chruściński', 'Łyczko', 'Smołka', 'Panfil', 'Lubczyński', 'Kowalik', 'Dobrzeniecki', 'Fudala', 'Prusaczyk',\n",
    "              'Janowski', 'Pawełek', 'Myśliński', 'Stosik', 'Rybak', 'Kulczycki', 'Skrzyniarz', 'Bartos', 'Skałecki', 'Fikus',\n",
    "              'Kmiotek', 'Trojnar', 'Gontarek', 'Tomala']\n",
    "\n",
    "split_and_save_last_names(last_names)"
   ]
  },
  {
   "cell_type": "code",
   "execution_count": 6,
   "id": "6161c661",
   "metadata": {},
   "outputs": [
    {
     "name": "stdout",
     "output_type": "stream",
     "text": [
      "alA am atok\n"
     ]
    }
   ],
   "source": [
    "#Zadanie 6\n",
    "\n",
    "def reversing_words(sentence):\n",
    "    return ' '.join([x[::-1] for x in sentence.split(' ')])\n",
    "\n",
    "sentence = \"Ala ma kota\"\n",
    "print(reversing_words(sentence))"
   ]
  },
  {
   "cell_type": "code",
   "execution_count": 7,
   "id": "b8e33877",
   "metadata": {},
   "outputs": [
    {
     "name": "stdout",
     "output_type": "stream",
     "text": [
      "Karty dla gracza nr. 1:  ['As Trefl', '4 Karo', '10 Kier', '8 Kier', 'Queen Karo']\n",
      "Karty dla gracza nr. 2:  ['Queen Karo', '3 Karo', '8 Trefl', 'King Kier', '9 Karo']\n",
      "Karty dla gracza nr. 3:  ['9 Karo', 'As Pik', '6 Kier', '2 Kier', '3 Pik']\n",
      "Karty dla gracza nr. 4:  ['3 Pik', '7 Kier', 'As Karo', '6 Trefl', '10 Karo']\n"
     ]
    }
   ],
   "source": [
    "#Zadanie 7\n",
    "\n",
    "import random\n",
    "\n",
    "def deal_the_cards():  \n",
    "    values = ['2', '3', '4', '5', '6', '7', '8', '9', '10', 'Joker', 'Queen', 'King', 'As']\n",
    "    suits = ['Trefl', 'Karo', 'Kier', 'Pik']\n",
    "    random_unique_double_numbers = []\n",
    "    while len(random_unique_double_numbers) < 20:\n",
    "        tmp = [random.randint(0, 12), random.randint(0, 3)]\n",
    "        if tmp not in random_unique_double_numbers:\n",
    "            random_unique_double_numbers.append(tmp)\n",
    "    \n",
    "    result = [[str(values[random_unique_double_numbers[x*4 + y][0]])+' ' +str(suits[random_unique_double_numbers[x*4 + y][1]]) for y in range(0, 5)] for x in range(0, 4)]\n",
    "    for x in range(0, 4):\n",
    "        print(\"Karty dla gracza nr. \"+str(x+1)+\": \", result[x])\n",
    "    \n",
    "deal_the_cards()"
   ]
  },
  {
   "cell_type": "code",
   "execution_count": 8,
   "id": "ca8dfdd3",
   "metadata": {},
   "outputs": [],
   "source": [
    "#Zadanie 8\n",
    "\n",
    "with open('data.txt', 'r', newline='', encoding='utf-8') as input_file:\n",
    "    with open('new_data.txt', 'w', newline='', encoding='utf-8') as output_file:\n",
    "        for row in input_file:\n",
    "            row_copy = row.strip().split(' ')\n",
    "            row_copy.append(row_copy[0].lower()+\".\"+row_copy[1].lower()+\"@student.uwm.edu.pl\")\n",
    "            output_file.write(' '.join(row_copy)+'\\n')"
   ]
  },
  {
   "cell_type": "code",
   "execution_count": 9,
   "id": "af44538a",
   "metadata": {},
   "outputs": [
    {
     "name": "stdout",
     "output_type": "stream",
     "text": [
      "__ _____, __ __ ______.\n",
      "Podaj pojedynczą literę lub całe hasło: a\n",
      "__ _a___, __ __ __a___.\n",
      "Podaj pojedynczą literę lub całe hasło: o\n",
      "_o _a___, _o _o __a___.\n",
      "Podaj pojedynczą literę lub całe hasło: C\n",
      "Co _a___, _o _o __a___.\n",
      "Podaj pojedynczą literę lub całe hasło: d\n",
      "Co _a___, _o _o d_a___.\n",
      "Podaj pojedynczą literę lub całe hasło: i\n",
      "Co _a___, _o _o dia___.\n",
      "Podaj pojedynczą literę lub całe hasło: Co nagle, to po diable.\n",
      "Hasło to:  Co nagle, to po diable.\n"
     ]
    }
   ],
   "source": [
    "#Zadanie 9\n",
    "\n",
    "import random\n",
    "\n",
    "with open('the_wheel_of_fortune.txt', 'r', encoding='utf-8') as file:\n",
    "    data = file.readlines()\n",
    "\n",
    "data = [x.replace('\\n', '') for x in data]\n",
    "\n",
    "draw = data[random.randint(0, len(data)-1)]\n",
    "draw_list = [x for x in draw]\n",
    "hidden_draw_list = ['_' if x not in [' ', ',', '.'] else x for x in draw]\n",
    "hidden_sentence = ''.join(hidden_draw_list)\n",
    "\n",
    "# print(data)\n",
    "# print(draw)\n",
    "# print(hidden_draw_list)\n",
    "# print(draw_list)\n",
    "\n",
    "while \"_\" in hidden_sentence:\n",
    "    print(hidden_sentence)\n",
    "    guess = input(\"Podaj pojedynczą literę lub całe hasło: \")\n",
    "    if len(guess) > 1:\n",
    "        if draw.lower() == guess.lower():\n",
    "            hidden_sentence = guess\n",
    "        else:\n",
    "            print(\"Hasło jest niepoprawne!\")\n",
    "    elif len(guess) == 1:\n",
    "        if guess.lower() in [x.lower() for x in draw_list]:\n",
    "            tmp = [x for x in range(0, len(draw_list)) if draw_list[x].lower() == guess.lower()]\n",
    "            for x in tmp:\n",
    "                if draw_list[x].islower():\n",
    "                    hidden_draw_list[x] = guess.lower()\n",
    "                elif draw_list[x].isupper():\n",
    "                    hidden_draw_list[x] = guess.upper()\n",
    "            hidden_sentence = ''.join(hidden_draw_list)\n",
    "            tmp = []\n",
    "print(\"Hasło to: \", hidden_sentence)"
   ]
  },
  {
   "cell_type": "code",
   "execution_count": null,
   "id": "37177089",
   "metadata": {},
   "outputs": [],
   "source": []
  }
 ],
 "metadata": {
  "kernelspec": {
   "display_name": "Python 3 (ipykernel)",
   "language": "python",
   "name": "python3"
  },
  "language_info": {
   "codemirror_mode": {
    "name": "ipython",
    "version": 3
   },
   "file_extension": ".py",
   "mimetype": "text/x-python",
   "name": "python",
   "nbconvert_exporter": "python",
   "pygments_lexer": "ipython3",
   "version": "3.11.5"
  }
 },
 "nbformat": 4,
 "nbformat_minor": 5
}
