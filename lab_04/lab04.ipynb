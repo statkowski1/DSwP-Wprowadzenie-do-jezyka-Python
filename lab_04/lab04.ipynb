{
 "cells": [
  {
   "cell_type": "code",
   "execution_count": 1,
   "id": "269ddd69",
   "metadata": {},
   "outputs": [
    {
     "name": "stdout",
     "output_type": "stream",
     "text": [
      "[0, 5, 10, 15, 20, 25, 30, 35, 40, 45, 50]\n"
     ]
    }
   ],
   "source": [
    "#Zadanie 1\n",
    "\n",
    "list1 = [x for x in range(0, 51, 5)]\n",
    "print(list1)"
   ]
  },
  {
   "cell_type": "code",
   "execution_count": 2,
   "id": "600d470f",
   "metadata": {},
   "outputs": [
    {
     "name": "stdout",
     "output_type": "stream",
     "text": [
      "Podaj wysokość diamentu: 7\n",
      "   o   \n",
      "  ooo  \n",
      " ooooo \n",
      "ooooooo\n",
      " ooooo \n",
      "  ooo  \n",
      "   o   \n"
     ]
    }
   ],
   "source": [
    "#Zadanie 2\n",
    "\n",
    "wysokosc = int(input(\"Podaj wysokość diamentu: \"))\n",
    "if wysokosc >= 3 and wysokosc <= 9 and wysokosc % 2 == 1:\n",
    "    for x in range(0, wysokosc):\n",
    "        for y in range(0, wysokosc):\n",
    "            if (x <= ((wysokosc - 1)/2) and y >= ((wysokosc - 1)/2) - x and y <= ((wysokosc - 1)/2) + x) or (x > ((wysokosc - 1) / 2) and y > ((wysokosc - 1)/2) + (x - wysokosc) and y < ((wysokosc -1)/2) + (wysokosc - x)):\n",
    "                print(\"o\", end=\"\")\n",
    "            else:\n",
    "                print(\" \", end=\"\")\n",
    "        print()\n",
    "else:\n",
    "    print(\"Złe wymiary diamentu!\")"
   ]
  },
  {
   "cell_type": "code",
   "execution_count": 3,
   "id": "37165440",
   "metadata": {},
   "outputs": [
    {
     "name": "stdout",
     "output_type": "stream",
     "text": [
      "[[1, 2, 3, 4, 5, 6, 7, 8, 9, 10], [2, 4, 6, 8, 10, 12, 14, 16, 18, 20], [3, 6, 9, 12, 15, 18, 21, 24, 27, 30], [4, 8, 12, 16, 20, 24, 28, 32, 36, 40], [5, 10, 15, 20, 25, 30, 35, 40, 45, 50], [6, 12, 18, 24, 30, 36, 42, 48, 54, 60], [7, 14, 21, 28, 35, 42, 49, 56, 63, 70], [8, 16, 24, 32, 40, 48, 56, 64, 72, 80], [9, 18, 27, 36, 45, 54, 63, 72, 81, 90], [10, 20, 30, 40, 50, 60, 70, 80, 90, 100]]\n",
      "    1    2    3    4    5    6    7    8    9    10    \n",
      "------------------------------------------------------\n",
      " 1|  1    2    3    4    5    6    7    8    9    10   \n",
      " 2|  2    4    6    8    10   12   14   16   18   20   \n",
      " 3|  3    6    9    12   15   18   21   24   27   30   \n",
      " 4|  4    8    12   16   20   24   28   32   36   40   \n",
      " 5|  5    10   15   20   25   30   35   40   45   50   \n",
      " 6|  6    12   18   24   30   36   42   48   54   60   \n",
      " 7|  7    14   21   28   35   42   49   56   63   70   \n",
      " 8|  8    16   24   32   40   48   56   64   72   80   \n",
      " 9|  9    18   27   36   45   54   63   72   81   90   \n",
      "10|  10   20   30   40   50   60   70   80   90   100  "
     ]
    }
   ],
   "source": [
    "#Zadanie 3\n",
    "\n",
    "list2 = [[0] * 10 for _ in range(10)]\n",
    "for x in range(1, 11):\n",
    "    for y in range(1, 11):\n",
    "        list2[x-1][y-1] = x * y\n",
    "print(list2)\n",
    "\n",
    "print(\"    \", end=\"\")\n",
    "for x in range(1, 11):\n",
    "    print(x, end=\"    \")\n",
    "print()\n",
    "for x in range(1, 55):\n",
    "    print(\"-\", end=\"\")\n",
    "for x in range(1, 11):\n",
    "    print()\n",
    "    print(\" \" * (2 - len(str(x))), end=\"\")\n",
    "    print(str(x) + \"| \", end=\" \")\n",
    "    for y in range(1, 11):\n",
    "        print(x * y, end=\" \" * (5 - len(str(x * y))))"
   ]
  },
  {
   "cell_type": "code",
   "execution_count": 4,
   "id": "d4a055b5",
   "metadata": {},
   "outputs": [
    {
     "name": "stdout",
     "output_type": "stream",
     "text": [
      "Podaj liczbę całkowitą: 17\n",
      "Podana liczba całowita:  17\n",
      "Podana liczba całowita w postaci binarnej:  0b10001\n",
      "Podana liczba całowita w postaci ósemkowej:  0o21\n",
      "Podana liczba całowita w postaci szesnastkowej:  0x11\n"
     ]
    }
   ],
   "source": [
    "#Zadanie 4\n",
    "\n",
    "number = int(input(\"Podaj liczbę całkowitą: \"))\n",
    "\n",
    "print(\"Podana liczba całowita: \", number)\n",
    "print(\"Podana liczba całowita w postaci binarnej: \", bin(number))\n",
    "print(\"Podana liczba całowita w postaci ósemkowej: \", oct(number))\n",
    "print(\"Podana liczba całowita w postaci szesnastkowej: \", hex(number))"
   ]
  },
  {
   "cell_type": "code",
   "execution_count": 5,
   "id": "857e9fb0",
   "metadata": {},
   "outputs": [
    {
     "name": "stdout",
     "output_type": "stream",
     "text": [
      "Podaj wartość: 7\n",
      "Podana wartość jest typu int.\n"
     ]
    }
   ],
   "source": [
    "#Zadanie 5\n",
    "\n",
    "i = eval(input(\"Podaj wartość: \"))\n",
    "\n",
    "if isinstance(i, int):\n",
    "    print(\"Podana wartość jest typu int.\")\n",
    "elif isinstance(i, float):\n",
    "    print(\"Podana wartość jest typu float.\")\n",
    "else:\n",
    "    print(\"Podana wartość nie jest ani typu int, ani typu float.\")"
   ]
  },
  {
   "cell_type": "code",
   "execution_count": 6,
   "id": "1ed1ab69",
   "metadata": {},
   "outputs": [
    {
     "name": "stdout",
     "output_type": "stream",
     "text": [
      "Podaj liczbę: 647\n",
      "Podaną liczbę można zapisać jako: 100 * 6 + 10 * 4 + 1 * 7\n"
     ]
    }
   ],
   "source": [
    "#Zadanie 6\n",
    "#W notatniku jupyter jest problem z działaniem readline() i write() z modułu sys, więc poniżej użyłem input oraz\n",
    "#dodałem plik: zad6.py w którym znajduje się rozwiązane zadanie z użyciem readline() i write() z modułu sys\n",
    "\n",
    "number2 = input(\"Podaj liczbę: \")\n",
    "print(\"Podaną liczbę można zapisać jako: \", end=\"\")\n",
    "result = \"\"\n",
    "for x in range(0, len(number2)):\n",
    "    result += str(10 ** (len(number2) - x - 1)) + \" * \" + str(number2[x])\n",
    "    if len(number2) - 1 > x:\n",
    "        result += \" + \"\n",
    "print(result)"
   ]
  },
  {
   "cell_type": "code",
   "execution_count": 7,
   "id": "b13fb04c",
   "metadata": {},
   "outputs": [
    {
     "name": "stdout",
     "output_type": "stream",
     "text": [
      "The Zen of Python, by Tim Peters\n",
      "\n",
      "Beautiful is better than ugly.\n",
      "Explicit is better than implicit.\n",
      "Simple is better than complex.\n",
      "Complex is better than complicated.\n",
      "Flat is better than nested.\n",
      "Sparse is better than dense.\n",
      "Readability counts.\n",
      "Special cases aren't special enough to break the rules.\n",
      "Although practicality beats purity.\n",
      "Errors should never pass silently.\n",
      "Unless explicitly silenced.\n",
      "In the face of ambiguity, refuse the temptation to guess.\n",
      "There should be one-- and preferably only one --obvious way to do it.\n",
      "Although that way may not be obvious at first unless you're Dutch.\n",
      "Now is better than never.\n",
      "Although never is often better than *right* now.\n",
      "If the implementation is hard to explain, it's a bad idea.\n",
      "If the implementation is easy to explain, it may be a good idea.\n",
      "Namespaces are one honking great idea -- let's do more of those!\n",
      "Podaj zdanie do zakodowania: It is a long established fact that a reader will be distracted by the readable content of a page when looking at its layout.\n",
      "Vg vf n ybat rfgnoyvfurq snpg gung n ernqre jvyy or qvfgenpgrq ol gur ernqnoyr pbagrag bs n cntr jura ybbxvat ng vgf ynlbhg.\n"
     ]
    }
   ],
   "source": [
    "#Zadanie 7\n",
    "import this\n",
    "\n",
    "sentence = input(\"Podaj zdanie do zakodowania: \")\n",
    "result2 = \"\"\n",
    "\n",
    "for x in sentence:\n",
    "    if x in this.d:\n",
    "        result2 += this.d[x]\n",
    "    else:\n",
    "        result2 += x\n",
    "print(result2)"
   ]
  },
  {
   "cell_type": "code",
   "execution_count": 8,
   "id": "948aa9de",
   "metadata": {},
   "outputs": [
    {
     "name": "stdout",
     "output_type": "stream",
     "text": [
      "Zdanie: There are many variations of passages of Lorem Ipsum available, but the majority have suffered alteration in some form, by injected humour, or randomised words which don't look even slightly believable.\n",
      "There are many variations of passages of Lorem Ipsum available, but the majority have suffered alteration in some form, by injected humour, or randomised words which don't look even slightly believable.\n",
      "['of', 'of', 'in', 'by', 'or', 'are', 'but', 'the', 'many', 'have', 'some', 'form', 'look', 'even', 'There', 'Lorem', 'Ipsum', 'words', 'which', \"don't\", 'humour', 'passages', 'majority', 'suffered', 'injected', 'slightly', 'available', 'variations', 'alteration', 'randomised', 'believable']\n"
     ]
    }
   ],
   "source": [
    "#Zadanie 8\n",
    "\n",
    "text = input(\"Zdanie: \")\n",
    "words = text.replace(\",\", \"\")\n",
    "words = words.replace(\".\", \"\")\n",
    "words = words.split()\n",
    "words = sorted(words, key=len)\n",
    "\n",
    "print(text)\n",
    "print(words)"
   ]
  },
  {
   "cell_type": "code",
   "execution_count": 9,
   "id": "f8fda1ee",
   "metadata": {},
   "outputs": [
    {
     "name": "stdout",
     "output_type": "stream",
     "text": [
      "Podaj liczbę zdań do wygenerowania: 7\n",
      "Wygenerowane zdania: \n",
      "W ten oto sposób wzmacnianie i rozwijanie struktur zabezpiecza udział szerokiej grupie w kształtowaniu istniejących warunków administracyjno-finansowych. \n",
      "Podobnie dalszy rozwój różnych form działalności powoduje docenianie wagi systemu szkolenia kadry odpowiadającego potrzebom. \n",
      "Troska organizacji, a szczególnie zakres i miejsce szkolenia kadr przedstawia interesującą próbę sprawdzenia istniejących warunków administracyjno-finansowych. \n",
      "Wyższe założenia ideowe, a także konsultacja z szerokim aktywem wymaga sprecyzowania i określenia postaw uczestników wobec zadań stawianych przez organizację. \n",
      "Wyższe założenia ideowe, a także nowy model działalności organizacyjnej pomaga w przygotowaniu i realizacji kierunków postępowego wychowania. \n",
      "Troska organizacji, a szczególnie dalszy rozwój różnych form działalności pomaga w przygotowaniu i realizacji nowych propozycji. \n",
      "Różnorakie i bogate doświadczenia stały wzrost ilości i zakres naszej aktywności zmusza nas do przeanalizowania modelu rozwoju. \n"
     ]
    }
   ],
   "source": [
    "#Zadanie 9\n",
    "\n",
    "import random\n",
    "\n",
    "data = [[\"Koleżanki i koledzy\", \"realizacja nakreślonych zadań programowych\", \"zmusza nas do przeanalizowania\", \"istniejących warunków administracyjno-finansowych.\"],\n",
    "       [\"Z drugiej strony\", \"zakres i miejsce szkolenia kadr\", \"spełnia istotną rolę w kształtowaniu\", \"dalszych kierunków rozwoju.\"],\n",
    "       [\"Podobnie\", \"stały wzrost ilości i zakres naszej aktywności\", \"wymaga sprecyzowania i określenia\", \"systemu powszechnego uczestnictwa.\"],\n",
    "       [\"Nie zapominajmy jednak, że\", \"aktualna struktura organizacji\", \"pomaga w przygotowaniu i realizacji\", \"postaw uczestników wobec zadań stawianych przez organizację.\"],\n",
    "       [\"W ten oto sposób\", \"nowy model działalności organizacyjnej\", \"zabezpiecza udział szerokiej grupie w kształtowaniu\", \"nowych propozycji.\"],\n",
    "       [\"Praktyka dnia codziennego dowodzi, że\", \"dalszy rozwój różnych form działalności\", \"spełnia ważne zadania w wypracowaniu\", \"kierunków postępowego wychowania.\"],\n",
    "       [\"Wagi i znaczenia tych problemów nie trzeba szerzej uzasadniać, ponieważ\", \"stałe zabezpieczenie informacyjno programowe naszej działalności\", \"umożliwia w większym stopniu tworzenie\", \"systemu szkolenia kadry odpowiadającego potrzebom.\"],\n",
    "       [\"Różnorakie i bogate doświadczenia\", \"wzmacnianie i rozwijanie struktur\", \"powoduje docenianie wagi\", \"odpowiednich warunków aktywizacji.\"],\n",
    "       [\"Troska organizacji, a szczególnie\", \"konsultacja z szerokim aktywem\", \"przedstawia interesującą próbę sprawdzenia\", \"modelu rozwoju.\"],\n",
    "       [\"Wyższe założenia ideowe, a także\", \"rozpoczęcie powszechnej akcji kształtowania postaw\", \"pociąga za sobą proces wdrażania i unowocześniania\", \"form oddziaływania.\"]]\n",
    "\n",
    "n = int(input(\"Podaj liczbę zdań do wygenerowania: \"))\n",
    "print(\"Wygenerowane zdania: \")\n",
    "\n",
    "for x in range(0, n):\n",
    "    for y in range(0, 4):\n",
    "        print(data[random.randint(0, 9)][y], end=\" \")\n",
    "    print()"
   ]
  },
  {
   "cell_type": "code",
   "execution_count": null,
   "id": "e5578701",
   "metadata": {},
   "outputs": [],
   "source": []
  }
 ],
 "metadata": {
  "kernelspec": {
   "display_name": "Python 3 (ipykernel)",
   "language": "python",
   "name": "python3"
  },
  "language_info": {
   "codemirror_mode": {
    "name": "ipython",
    "version": 3
   },
   "file_extension": ".py",
   "mimetype": "text/x-python",
   "name": "python",
   "nbconvert_exporter": "python",
   "pygments_lexer": "ipython3",
   "version": "3.11.5"
  }
 },
 "nbformat": 4,
 "nbformat_minor": 5
}
